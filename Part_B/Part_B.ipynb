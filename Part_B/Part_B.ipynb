{
  "nbformat": 4,
  "nbformat_minor": 0,
  "metadata": {
    "colab": {
      "name": "PartB.ipynb",
      "provenance": [],
      "collapsed_sections": []
    },
    "kernelspec": {
      "name": "python3",
      "display_name": "Python 3"
    },
    "language_info": {
      "name": "python"
    },
    "accelerator": "GPU",
    "widgets": {
      "application/vnd.jupyter.widget-state+json": {
        "2a2090cde22543aa99f5d3908bdbcea0": {
          "model_module": "@jupyter-widgets/controls",
          "model_name": "VBoxModel",
          "model_module_version": "1.5.0",
          "state": {
            "_dom_classes": [],
            "_model_module": "@jupyter-widgets/controls",
            "_model_module_version": "1.5.0",
            "_model_name": "VBoxModel",
            "_view_count": null,
            "_view_module": "@jupyter-widgets/controls",
            "_view_module_version": "1.5.0",
            "_view_name": "VBoxView",
            "box_style": "",
            "children": [
              "IPY_MODEL_81b860e454ce49a38211c91347253aa3",
              "IPY_MODEL_da57d544aee140dd9e1d259975a641cc"
            ],
            "layout": "IPY_MODEL_d638a35bbcc34636ab52d51b784960bd"
          }
        },
        "81b860e454ce49a38211c91347253aa3": {
          "model_module": "@jupyter-widgets/controls",
          "model_name": "LabelModel",
          "model_module_version": "1.5.0",
          "state": {
            "_dom_classes": [],
            "_model_module": "@jupyter-widgets/controls",
            "_model_module_version": "1.5.0",
            "_model_name": "LabelModel",
            "_view_count": null,
            "_view_module": "@jupyter-widgets/controls",
            "_view_module_version": "1.5.0",
            "_view_name": "LabelView",
            "description": "",
            "description_tooltip": null,
            "layout": "IPY_MODEL_3324aa6a36274a078cd0c5edfbdbcbb3",
            "placeholder": "​",
            "style": "IPY_MODEL_669afa861c3d4fb5a1320ea0c3f0fd21",
            "value": "116.776 MB of 116.776 MB uploaded (0.000 MB deduped)\r"
          }
        },
        "da57d544aee140dd9e1d259975a641cc": {
          "model_module": "@jupyter-widgets/controls",
          "model_name": "FloatProgressModel",
          "model_module_version": "1.5.0",
          "state": {
            "_dom_classes": [],
            "_model_module": "@jupyter-widgets/controls",
            "_model_module_version": "1.5.0",
            "_model_name": "FloatProgressModel",
            "_view_count": null,
            "_view_module": "@jupyter-widgets/controls",
            "_view_module_version": "1.5.0",
            "_view_name": "ProgressView",
            "bar_style": "",
            "description": "",
            "description_tooltip": null,
            "layout": "IPY_MODEL_78cb872ffd2f41a498ee01f5360865dc",
            "max": 1,
            "min": 0,
            "orientation": "horizontal",
            "style": "IPY_MODEL_2e28f81190474ca7a23d9108dccf52b7",
            "value": 1
          }
        },
        "d638a35bbcc34636ab52d51b784960bd": {
          "model_module": "@jupyter-widgets/base",
          "model_name": "LayoutModel",
          "model_module_version": "1.2.0",
          "state": {
            "_model_module": "@jupyter-widgets/base",
            "_model_module_version": "1.2.0",
            "_model_name": "LayoutModel",
            "_view_count": null,
            "_view_module": "@jupyter-widgets/base",
            "_view_module_version": "1.2.0",
            "_view_name": "LayoutView",
            "align_content": null,
            "align_items": null,
            "align_self": null,
            "border": null,
            "bottom": null,
            "display": null,
            "flex": null,
            "flex_flow": null,
            "grid_area": null,
            "grid_auto_columns": null,
            "grid_auto_flow": null,
            "grid_auto_rows": null,
            "grid_column": null,
            "grid_gap": null,
            "grid_row": null,
            "grid_template_areas": null,
            "grid_template_columns": null,
            "grid_template_rows": null,
            "height": null,
            "justify_content": null,
            "justify_items": null,
            "left": null,
            "margin": null,
            "max_height": null,
            "max_width": null,
            "min_height": null,
            "min_width": null,
            "object_fit": null,
            "object_position": null,
            "order": null,
            "overflow": null,
            "overflow_x": null,
            "overflow_y": null,
            "padding": null,
            "right": null,
            "top": null,
            "visibility": null,
            "width": null
          }
        },
        "3324aa6a36274a078cd0c5edfbdbcbb3": {
          "model_module": "@jupyter-widgets/base",
          "model_name": "LayoutModel",
          "model_module_version": "1.2.0",
          "state": {
            "_model_module": "@jupyter-widgets/base",
            "_model_module_version": "1.2.0",
            "_model_name": "LayoutModel",
            "_view_count": null,
            "_view_module": "@jupyter-widgets/base",
            "_view_module_version": "1.2.0",
            "_view_name": "LayoutView",
            "align_content": null,
            "align_items": null,
            "align_self": null,
            "border": null,
            "bottom": null,
            "display": null,
            "flex": null,
            "flex_flow": null,
            "grid_area": null,
            "grid_auto_columns": null,
            "grid_auto_flow": null,
            "grid_auto_rows": null,
            "grid_column": null,
            "grid_gap": null,
            "grid_row": null,
            "grid_template_areas": null,
            "grid_template_columns": null,
            "grid_template_rows": null,
            "height": null,
            "justify_content": null,
            "justify_items": null,
            "left": null,
            "margin": null,
            "max_height": null,
            "max_width": null,
            "min_height": null,
            "min_width": null,
            "object_fit": null,
            "object_position": null,
            "order": null,
            "overflow": null,
            "overflow_x": null,
            "overflow_y": null,
            "padding": null,
            "right": null,
            "top": null,
            "visibility": null,
            "width": null
          }
        },
        "669afa861c3d4fb5a1320ea0c3f0fd21": {
          "model_module": "@jupyter-widgets/controls",
          "model_name": "DescriptionStyleModel",
          "model_module_version": "1.5.0",
          "state": {
            "_model_module": "@jupyter-widgets/controls",
            "_model_module_version": "1.5.0",
            "_model_name": "DescriptionStyleModel",
            "_view_count": null,
            "_view_module": "@jupyter-widgets/base",
            "_view_module_version": "1.2.0",
            "_view_name": "StyleView",
            "description_width": ""
          }
        },
        "78cb872ffd2f41a498ee01f5360865dc": {
          "model_module": "@jupyter-widgets/base",
          "model_name": "LayoutModel",
          "model_module_version": "1.2.0",
          "state": {
            "_model_module": "@jupyter-widgets/base",
            "_model_module_version": "1.2.0",
            "_model_name": "LayoutModel",
            "_view_count": null,
            "_view_module": "@jupyter-widgets/base",
            "_view_module_version": "1.2.0",
            "_view_name": "LayoutView",
            "align_content": null,
            "align_items": null,
            "align_self": null,
            "border": null,
            "bottom": null,
            "display": null,
            "flex": null,
            "flex_flow": null,
            "grid_area": null,
            "grid_auto_columns": null,
            "grid_auto_flow": null,
            "grid_auto_rows": null,
            "grid_column": null,
            "grid_gap": null,
            "grid_row": null,
            "grid_template_areas": null,
            "grid_template_columns": null,
            "grid_template_rows": null,
            "height": null,
            "justify_content": null,
            "justify_items": null,
            "left": null,
            "margin": null,
            "max_height": null,
            "max_width": null,
            "min_height": null,
            "min_width": null,
            "object_fit": null,
            "object_position": null,
            "order": null,
            "overflow": null,
            "overflow_x": null,
            "overflow_y": null,
            "padding": null,
            "right": null,
            "top": null,
            "visibility": null,
            "width": null
          }
        },
        "2e28f81190474ca7a23d9108dccf52b7": {
          "model_module": "@jupyter-widgets/controls",
          "model_name": "ProgressStyleModel",
          "model_module_version": "1.5.0",
          "state": {
            "_model_module": "@jupyter-widgets/controls",
            "_model_module_version": "1.5.0",
            "_model_name": "ProgressStyleModel",
            "_view_count": null,
            "_view_module": "@jupyter-widgets/base",
            "_view_module_version": "1.2.0",
            "_view_name": "StyleView",
            "bar_color": null,
            "description_width": ""
          }
        },
        "f1dbf791a8014373af5c74aa8b3d965b": {
          "model_module": "@jupyter-widgets/controls",
          "model_name": "VBoxModel",
          "model_module_version": "1.5.0",
          "state": {
            "_dom_classes": [],
            "_model_module": "@jupyter-widgets/controls",
            "_model_module_version": "1.5.0",
            "_model_name": "VBoxModel",
            "_view_count": null,
            "_view_module": "@jupyter-widgets/controls",
            "_view_module_version": "1.5.0",
            "_view_name": "VBoxView",
            "box_style": "",
            "children": [
              "IPY_MODEL_752a26c30b0a4c34ad73bf27e3b03ed2",
              "IPY_MODEL_b52609579f9d49659ab350c156d06e83"
            ],
            "layout": "IPY_MODEL_11965cd09170499e898be38c781ea0bf"
          }
        },
        "752a26c30b0a4c34ad73bf27e3b03ed2": {
          "model_module": "@jupyter-widgets/controls",
          "model_name": "LabelModel",
          "model_module_version": "1.5.0",
          "state": {
            "_dom_classes": [],
            "_model_module": "@jupyter-widgets/controls",
            "_model_module_version": "1.5.0",
            "_model_name": "LabelModel",
            "_view_count": null,
            "_view_module": "@jupyter-widgets/controls",
            "_view_module_version": "1.5.0",
            "_view_name": "LabelView",
            "description": "",
            "description_tooltip": null,
            "layout": "IPY_MODEL_34f7b762f577436aa554d3e6b4107248",
            "placeholder": "​",
            "style": "IPY_MODEL_c0affd43d0814edbaf6067383cf102ca",
            "value": "429.945 MB of 429.945 MB uploaded (0.000 MB deduped)\r"
          }
        },
        "b52609579f9d49659ab350c156d06e83": {
          "model_module": "@jupyter-widgets/controls",
          "model_name": "FloatProgressModel",
          "model_module_version": "1.5.0",
          "state": {
            "_dom_classes": [],
            "_model_module": "@jupyter-widgets/controls",
            "_model_module_version": "1.5.0",
            "_model_name": "FloatProgressModel",
            "_view_count": null,
            "_view_module": "@jupyter-widgets/controls",
            "_view_module_version": "1.5.0",
            "_view_name": "ProgressView",
            "bar_style": "",
            "description": "",
            "description_tooltip": null,
            "layout": "IPY_MODEL_1444a0f4e11842bebc9c6bdef9247024",
            "max": 1,
            "min": 0,
            "orientation": "horizontal",
            "style": "IPY_MODEL_72cb2ede32c14f6da1f6462a25a472ac",
            "value": 1
          }
        },
        "11965cd09170499e898be38c781ea0bf": {
          "model_module": "@jupyter-widgets/base",
          "model_name": "LayoutModel",
          "model_module_version": "1.2.0",
          "state": {
            "_model_module": "@jupyter-widgets/base",
            "_model_module_version": "1.2.0",
            "_model_name": "LayoutModel",
            "_view_count": null,
            "_view_module": "@jupyter-widgets/base",
            "_view_module_version": "1.2.0",
            "_view_name": "LayoutView",
            "align_content": null,
            "align_items": null,
            "align_self": null,
            "border": null,
            "bottom": null,
            "display": null,
            "flex": null,
            "flex_flow": null,
            "grid_area": null,
            "grid_auto_columns": null,
            "grid_auto_flow": null,
            "grid_auto_rows": null,
            "grid_column": null,
            "grid_gap": null,
            "grid_row": null,
            "grid_template_areas": null,
            "grid_template_columns": null,
            "grid_template_rows": null,
            "height": null,
            "justify_content": null,
            "justify_items": null,
            "left": null,
            "margin": null,
            "max_height": null,
            "max_width": null,
            "min_height": null,
            "min_width": null,
            "object_fit": null,
            "object_position": null,
            "order": null,
            "overflow": null,
            "overflow_x": null,
            "overflow_y": null,
            "padding": null,
            "right": null,
            "top": null,
            "visibility": null,
            "width": null
          }
        },
        "34f7b762f577436aa554d3e6b4107248": {
          "model_module": "@jupyter-widgets/base",
          "model_name": "LayoutModel",
          "model_module_version": "1.2.0",
          "state": {
            "_model_module": "@jupyter-widgets/base",
            "_model_module_version": "1.2.0",
            "_model_name": "LayoutModel",
            "_view_count": null,
            "_view_module": "@jupyter-widgets/base",
            "_view_module_version": "1.2.0",
            "_view_name": "LayoutView",
            "align_content": null,
            "align_items": null,
            "align_self": null,
            "border": null,
            "bottom": null,
            "display": null,
            "flex": null,
            "flex_flow": null,
            "grid_area": null,
            "grid_auto_columns": null,
            "grid_auto_flow": null,
            "grid_auto_rows": null,
            "grid_column": null,
            "grid_gap": null,
            "grid_row": null,
            "grid_template_areas": null,
            "grid_template_columns": null,
            "grid_template_rows": null,
            "height": null,
            "justify_content": null,
            "justify_items": null,
            "left": null,
            "margin": null,
            "max_height": null,
            "max_width": null,
            "min_height": null,
            "min_width": null,
            "object_fit": null,
            "object_position": null,
            "order": null,
            "overflow": null,
            "overflow_x": null,
            "overflow_y": null,
            "padding": null,
            "right": null,
            "top": null,
            "visibility": null,
            "width": null
          }
        },
        "c0affd43d0814edbaf6067383cf102ca": {
          "model_module": "@jupyter-widgets/controls",
          "model_name": "DescriptionStyleModel",
          "model_module_version": "1.5.0",
          "state": {
            "_model_module": "@jupyter-widgets/controls",
            "_model_module_version": "1.5.0",
            "_model_name": "DescriptionStyleModel",
            "_view_count": null,
            "_view_module": "@jupyter-widgets/base",
            "_view_module_version": "1.2.0",
            "_view_name": "StyleView",
            "description_width": ""
          }
        },
        "1444a0f4e11842bebc9c6bdef9247024": {
          "model_module": "@jupyter-widgets/base",
          "model_name": "LayoutModel",
          "model_module_version": "1.2.0",
          "state": {
            "_model_module": "@jupyter-widgets/base",
            "_model_module_version": "1.2.0",
            "_model_name": "LayoutModel",
            "_view_count": null,
            "_view_module": "@jupyter-widgets/base",
            "_view_module_version": "1.2.0",
            "_view_name": "LayoutView",
            "align_content": null,
            "align_items": null,
            "align_self": null,
            "border": null,
            "bottom": null,
            "display": null,
            "flex": null,
            "flex_flow": null,
            "grid_area": null,
            "grid_auto_columns": null,
            "grid_auto_flow": null,
            "grid_auto_rows": null,
            "grid_column": null,
            "grid_gap": null,
            "grid_row": null,
            "grid_template_areas": null,
            "grid_template_columns": null,
            "grid_template_rows": null,
            "height": null,
            "justify_content": null,
            "justify_items": null,
            "left": null,
            "margin": null,
            "max_height": null,
            "max_width": null,
            "min_height": null,
            "min_width": null,
            "object_fit": null,
            "object_position": null,
            "order": null,
            "overflow": null,
            "overflow_x": null,
            "overflow_y": null,
            "padding": null,
            "right": null,
            "top": null,
            "visibility": null,
            "width": null
          }
        },
        "72cb2ede32c14f6da1f6462a25a472ac": {
          "model_module": "@jupyter-widgets/controls",
          "model_name": "ProgressStyleModel",
          "model_module_version": "1.5.0",
          "state": {
            "_model_module": "@jupyter-widgets/controls",
            "_model_module_version": "1.5.0",
            "_model_name": "ProgressStyleModel",
            "_view_count": null,
            "_view_module": "@jupyter-widgets/base",
            "_view_module_version": "1.2.0",
            "_view_name": "StyleView",
            "bar_color": null,
            "description_width": ""
          }
        }
      }
    }
  },
  "cells": [
    {
      "cell_type": "code",
      "execution_count": null,
      "metadata": {
        "id": "zyFbbrYDTs-h"
      },
      "outputs": [],
      "source": [
        "# import the necessary packages\n",
        "import requests\n",
        "url = 'https://storage.googleapis.com/wandb_datasets/nature_12K.zip'\n",
        "r = requests.get(url, allow_redirects=True)\n",
        "open('nature_12K.zip', 'wb').write(r.content)\n",
        "!wget 'https://storage.googleapis.com/wandb_datasets/nature_12K.zip'\n",
        "!unzip nature_12K.zip"
      ]
    },
    {
      "cell_type": "code",
      "source": [
        "!pip install wandb"
      ],
      "metadata": {
        "colab": {
          "base_uri": "https://localhost:8080/"
        },
        "id": "iLOuURgN2Sqd",
        "outputId": "2ea6bb14-aa02-4d99-d707-291b0631ca3c"
      },
      "execution_count": null,
      "outputs": [
        {
          "output_type": "stream",
          "name": "stdout",
          "text": [
            "Requirement already satisfied: wandb in /usr/local/lib/python3.7/dist-packages (0.12.11)\n",
            "Requirement already satisfied: psutil>=5.0.0 in /usr/local/lib/python3.7/dist-packages (from wandb) (5.4.8)\n",
            "Requirement already satisfied: PyYAML in /usr/local/lib/python3.7/dist-packages (from wandb) (3.13)\n",
            "Requirement already satisfied: setproctitle in /usr/local/lib/python3.7/dist-packages (from wandb) (1.2.2)\n",
            "Requirement already satisfied: python-dateutil>=2.6.1 in /usr/local/lib/python3.7/dist-packages (from wandb) (2.8.2)\n",
            "Requirement already satisfied: promise<3,>=2.0 in /usr/local/lib/python3.7/dist-packages (from wandb) (2.3)\n",
            "Requirement already satisfied: sentry-sdk>=1.0.0 in /usr/local/lib/python3.7/dist-packages (from wandb) (1.5.8)\n",
            "Requirement already satisfied: Click!=8.0.0,>=7.0 in /usr/local/lib/python3.7/dist-packages (from wandb) (7.1.2)\n",
            "Requirement already satisfied: shortuuid>=0.5.0 in /usr/local/lib/python3.7/dist-packages (from wandb) (1.0.8)\n",
            "Requirement already satisfied: docker-pycreds>=0.4.0 in /usr/local/lib/python3.7/dist-packages (from wandb) (0.4.0)\n",
            "Requirement already satisfied: requests<3,>=2.0.0 in /usr/local/lib/python3.7/dist-packages (from wandb) (2.23.0)\n",
            "Requirement already satisfied: protobuf>=3.12.0 in /usr/local/lib/python3.7/dist-packages (from wandb) (3.17.3)\n",
            "Requirement already satisfied: yaspin>=1.0.0 in /usr/local/lib/python3.7/dist-packages (from wandb) (2.1.0)\n",
            "Requirement already satisfied: GitPython>=1.0.0 in /usr/local/lib/python3.7/dist-packages (from wandb) (3.1.27)\n",
            "Requirement already satisfied: six>=1.13.0 in /usr/local/lib/python3.7/dist-packages (from wandb) (1.15.0)\n",
            "Requirement already satisfied: pathtools in /usr/local/lib/python3.7/dist-packages (from wandb) (0.1.2)\n",
            "Requirement already satisfied: gitdb<5,>=4.0.1 in /usr/local/lib/python3.7/dist-packages (from GitPython>=1.0.0->wandb) (4.0.9)\n",
            "Requirement already satisfied: typing-extensions>=3.7.4.3 in /usr/local/lib/python3.7/dist-packages (from GitPython>=1.0.0->wandb) (3.10.0.2)\n",
            "Requirement already satisfied: smmap<6,>=3.0.1 in /usr/local/lib/python3.7/dist-packages (from gitdb<5,>=4.0.1->GitPython>=1.0.0->wandb) (5.0.0)\n",
            "Requirement already satisfied: certifi>=2017.4.17 in /usr/local/lib/python3.7/dist-packages (from requests<3,>=2.0.0->wandb) (2021.10.8)\n",
            "Requirement already satisfied: idna<3,>=2.5 in /usr/local/lib/python3.7/dist-packages (from requests<3,>=2.0.0->wandb) (2.10)\n",
            "Requirement already satisfied: chardet<4,>=3.0.2 in /usr/local/lib/python3.7/dist-packages (from requests<3,>=2.0.0->wandb) (3.0.4)\n",
            "Requirement already satisfied: urllib3!=1.25.0,!=1.25.1,<1.26,>=1.21.1 in /usr/local/lib/python3.7/dist-packages (from requests<3,>=2.0.0->wandb) (1.24.3)\n",
            "Requirement already satisfied: termcolor<2.0.0,>=1.1.0 in /usr/local/lib/python3.7/dist-packages (from yaspin>=1.0.0->wandb) (1.1.0)\n"
          ]
        }
      ]
    },
    {
      "cell_type": "code",
      "source": [
        "import wandb\n",
        "wandb.init(project=\"CS6910_Assignment2\", entity=\"swe-rana\")\n",
        "from wandb.keras import WandbCallback"
      ],
      "metadata": {
        "colab": {
          "base_uri": "https://localhost:8080/",
          "height": 86
        },
        "id": "YZqAuQ__Um0w",
        "outputId": "5af463c3-eb83-4120-b098-584b7280f044"
      },
      "execution_count": null,
      "outputs": [
        {
          "output_type": "stream",
          "name": "stderr",
          "text": [
            "\u001b[34m\u001b[1mwandb\u001b[0m: Currently logged in as: \u001b[33mswe-rana\u001b[0m (use `wandb login --relogin` to force relogin)\n"
          ]
        },
        {
          "output_type": "display_data",
          "data": {
            "text/plain": [
              "<IPython.core.display.HTML object>"
            ],
            "text/html": [
              "Tracking run with wandb version 0.12.11"
            ]
          },
          "metadata": {}
        },
        {
          "output_type": "display_data",
          "data": {
            "text/plain": [
              "<IPython.core.display.HTML object>"
            ],
            "text/html": [
              "Run data is saved locally in <code>/content/wandb/run-20220328_103017-mm5fi326</code>"
            ]
          },
          "metadata": {}
        },
        {
          "output_type": "display_data",
          "data": {
            "text/plain": [
              "<IPython.core.display.HTML object>"
            ],
            "text/html": [
              "Syncing run <strong><a href=\"https://wandb.ai/swe-rana/CS6910_Assignment2/runs/mm5fi326\" target=\"_blank\">deft-disco-398</a></strong> to <a href=\"https://wandb.ai/swe-rana/CS6910_Assignment2\" target=\"_blank\">Weights & Biases</a> (<a href=\"https://wandb.me/run\" target=\"_blank\">docs</a>)<br/>"
            ]
          },
          "metadata": {}
        }
      ]
    },
    {
      "cell_type": "code",
      "source": [
        "import pandas as pd\n",
        "import os\n",
        "import keras\n",
        "import tensorflow as tf\n",
        "from keras.models import Sequential,Input,Model\n",
        "from keras.layers import Dense, Dropout, Flatten,BatchNormalization\n",
        "from keras.layers import Conv2D, MaxPooling2D\n",
        "import matplotlib.pyplot as plt\n",
        "from tensorflow.keras import datasets, layers, models, losses, Model\n",
        "\n",
        "from tensorflow.keras.preprocessing.image import ImageDataGenerator\n",
        "\n",
        "def data(image_size,augment_data,batch_size):\n",
        "      home_path = \"/content/inaturalist_12K\" # initialize the path to the *original* input directory of images\n",
        "      # derive the paths to the training, validation, and testing\n",
        "      train_path = os.path.join(home_path,'train')\n",
        "      test_path = os.path.join(home_path,'val')\n",
        "      if augment_data == True:        # initialize the training data augmentation object\n",
        "        train_data = ImageDataGenerator(rotation_range=10, width_shift_range=0.2, height_shift_range=0.2, zoom_range=0.2, horizontal_flip=True,brightness_range=[0.2,1.2],validation_split=0.1) # brightness\n",
        "        test_data = ImageDataGenerator(rotation_range=10, width_shift_range=0.2, height_shift_range=0.2, zoom_range=0.2, horizontal_flip=True,brightness_range=[0.2,1.2]) # brightness\n",
        "\n",
        "      else:\n",
        "        \n",
        "        train_data = ImageDataGenerator(rescale=1./255, validation_split=0.1) # initialize the training generator\n",
        "        test_data = ImageDataGenerator(rescale=1./255) # initialize the test generator\n",
        "\n",
        "\n",
        "      train_generator = train_data.flow_from_directory(directory= train_path,target_size=(image_size, image_size), batch_size=batch_size,color_mode=\"rgb\",class_mode=\"categorical\",subset = \"training\")\n",
        "      val_generator = train_data.flow_from_directory(directory= train_path,target_size=(image_size, image_size), batch_size=batch_size,color_mode=\"rgb\",class_mode=\"categorical\",subset = \"validation\")\n",
        "      test_generator = test_data.flow_from_directory(directory= test_path,target_size=(image_size, image_size), batch_size=batch_size,color_mode=\"rgb\",class_mode=\"categorical\")\n",
        "      return train_generator,val_generator,test_generator\n",
        "\n",
        "def pretrained_model(image_size,pre_train_mod,dropout,epochs,dense_size,lr):\n",
        "           # the base model\n",
        "           #pre-training\n",
        "            if pre_train_mod ==\"InceptionV3\":\n",
        "                        base_model = tf.keras.applications.inception_v3.InceptionV3(weights='imagenet',input_shape=(image_size, image_size, 3), include_top=False)\n",
        "            if pre_train_mod == \"ResNet50\":\n",
        "                        base_model = tf.keras.applications.resnet50.ResNet50(weights='imagenet',input_shape=(image_size, image_size, 3), include_top=False)\n",
        "            if pre_train_mod == \"InceptionResNetV2\":\n",
        "                        base_model = tf.keras.applications.inception_resnet_v2.InceptionResNetV2(weights='imagenet',input_shape=(image_size, image_size, 3), include_top=False)\n",
        "            if pre_train_mod == \"Xception\":\n",
        "                        base_model =  tf.keras.applications.xception.Xception (weights='imagenet',input_shape=(image_size, image_size, 3), include_top=False)\n",
        "            #fine tuning\n",
        "            # loop over all layers in the base model and freeze them so they will not be updated during the first training process\n",
        "            for layer in base_model.layers:\n",
        "                         layer.trainable = False\n",
        "            # construct the head of the model that will be placed on top of  the base model           \n",
        "            x = layers.Flatten()(base_model.output)            \n",
        "            x = Dense(dense_size, activation='relu')(x)\n",
        "            x=tf.keras.layers.Dropout(dropout)(x)\n",
        "            predictions = Dense(10, activation='softmax')(x)\n",
        "            # this is the model we will train\n",
        "            model = Model(inputs=base_model.input, outputs=predictions)# place the head FC model on top of the base model\n",
        "            \n",
        "            return model\n",
        "\n",
        "\n",
        "  \n"
      ],
      "metadata": {
        "id": "mgIOCxS7Uq4Q"
      },
      "execution_count": null,
      "outputs": []
    },
    {
      "cell_type": "code",
      "source": [
        "def setRunName(image_size,pre_train_mod, dropout,augment_data,batch_size,dense_size):\n",
        "    \n",
        "    augment_data_options = {True: \"Y\", False: \"N\"}\n",
        "\n",
        "    run_name = \"_\".join([\"img\",str(image_size),\"pre\",pre_train_mod,\"drop\", str(dropout), \"bat\",str(batch_size),\"den\",str(dense_size)])\n",
        "    \n",
        "    return run_name\n"
      ],
      "metadata": {
        "id": "Bqxh_4A7VNda"
      },
      "execution_count": null,
      "outputs": []
    },
    {
      "cell_type": "code",
      "source": [
        "    def train():\n",
        "\n",
        "        config_defaults = {\n",
        "            \"image_size\" :512,\n",
        "            \"pre_train_mod\" : \"InceptionResnetV2\",\n",
        "            \"augment_data\": False,\n",
        "            \"dropout\": 0.2,\n",
        "            \"epochs\": 10,\n",
        "            \"batch_size\" : 256,\n",
        "            \"dense_size\": 64,\n",
        "            \"lr\": 0.001\n",
        "        }\n",
        "        wandb.init(config=config_defaults)\n",
        "        config = wandb.config\n",
        "        wandb.run.name = setRunName(config.image_size,config.pre_train_mod, config.augment_data, config.dropout,config.batch_size,config.dense_size)\n",
        "       \n",
        "        train_gen, val_gen, test_gen = data(image_size=config.image_size,augment_data=config.augment_data,batch_size=config.batch_size) #generating train,test and val data\n",
        "        model = pretrained_model(image_size=config.image_size,pre_train_mod=config.pre_train_mod,dropout=config.dropout,epochs=config.epochs,dense_size=config.dense_size,lr=config.lr)\n",
        "        model.compile(optimizer=\"adam\", loss=\"categorical_crossentropy\", metrics=\"categorical_accuracy\")# compile our model\n",
        "        model.fit(train_gen, epochs=config.epochs, validation_data=val_gen, callbacks=[WandbCallback()])#fitting our model into train and val data\n"
      ],
      "metadata": {
        "id": "wgVF0H6OUter"
      },
      "execution_count": null,
      "outputs": []
    },
    {
      "cell_type": "code",
      "source": [
        "#Set up a sweep config\n",
        "sweep_config = {\n",
        "    \"name\": \"Assignment_2_partB_all_params\",\n",
        "    \"description\": \"Assignment_B_partA_all_params\",\n",
        "    \"method\": \"bayes\",\n",
        "    \"metric\" : {\n",
        "        \"name\" : \"val_categorical_accuracy\",\n",
        "        \"goal\" : \"maximize\"\n",
        "    },\n",
        "    \"project\": \"CS6910_Assignment2\",\n",
        "    \"parameters\": {\n",
        "        \"pre_train_mod\" :{\n",
        "            \"values\" : [\"Resnet50\",\"InceptionV3\",\"InceptionResNetV2\",\"Xception\"]\n",
        "        },\n",
        "        \"image_size\" : {\n",
        "            \"values\" :[200,256,512]\n",
        "        },\n",
        "        \"batch_size\":{\n",
        "            \"values\":[200,256,400]\n",
        "        },\n",
        "        \"dropout\": {\n",
        "            \"values\": [0.2,0.3]\n",
        "        },\n",
        "        \"augment_data\": {\n",
        "            \"values\": [True,False]\n",
        "        },\n",
        "        \"dense_size\": {\n",
        "            \"values\": [32,64]\n",
        "        },\n",
        "        \"lr\": {\n",
        "            \"values\": [0.001]\n",
        "        },\n",
        "        \"epochs\": {\n",
        "            \"values\": [10]\n",
        "        }\n",
        "    }\n",
        "\n",
        "}\n",
        "# creating the sweep\n"
      ],
      "metadata": {
        "id": "pMYj1QgjUvV6"
      },
      "execution_count": null,
      "outputs": []
    },
    {
      "cell_type": "code",
      "source": [
        "sweep_id = \"g89b0365\"\n",
        "#sweep_id = wandb.sweep(sweep_config)\n",
        "wandb.agent(sweep_id,train,entity=\"swe-rana\",project=\"CS6910_Assignment2\")\n"
      ],
      "metadata": {
        "colab": {
          "base_uri": "https://localhost:8080/",
          "height": 1000,
          "referenced_widgets": [
            "2a2090cde22543aa99f5d3908bdbcea0",
            "81b860e454ce49a38211c91347253aa3",
            "da57d544aee140dd9e1d259975a641cc",
            "d638a35bbcc34636ab52d51b784960bd",
            "3324aa6a36274a078cd0c5edfbdbcbb3",
            "669afa861c3d4fb5a1320ea0c3f0fd21",
            "78cb872ffd2f41a498ee01f5360865dc",
            "2e28f81190474ca7a23d9108dccf52b7",
            "f1dbf791a8014373af5c74aa8b3d965b",
            "752a26c30b0a4c34ad73bf27e3b03ed2",
            "b52609579f9d49659ab350c156d06e83",
            "11965cd09170499e898be38c781ea0bf",
            "34f7b762f577436aa554d3e6b4107248",
            "c0affd43d0814edbaf6067383cf102ca",
            "1444a0f4e11842bebc9c6bdef9247024",
            "72cb2ede32c14f6da1f6462a25a472ac"
          ]
        },
        "id": "OVfbjTugUyHZ",
        "outputId": "79e395c5-86cc-4389-dc2f-6d350e3a8f91"
      },
      "execution_count": null,
      "outputs": [
        {
          "metadata": {
            "tags": null
          },
          "name": "stderr",
          "output_type": "stream",
          "text": [
            "\u001b[34m\u001b[1mwandb\u001b[0m: \u001b[33mWARNING\u001b[0m Calling wandb.login() after wandb.init() has no effect.\n",
            "\u001b[34m\u001b[1mwandb\u001b[0m: Agent Starting Run: mufhb5n4 with config:\n",
            "\u001b[34m\u001b[1mwandb\u001b[0m: \taugment_data: True\n",
            "\u001b[34m\u001b[1mwandb\u001b[0m: \tbatch_size: 200\n",
            "\u001b[34m\u001b[1mwandb\u001b[0m: \tdense_size: 32\n",
            "\u001b[34m\u001b[1mwandb\u001b[0m: \tdropout: 0.2\n",
            "\u001b[34m\u001b[1mwandb\u001b[0m: \tepochs: 10\n",
            "\u001b[34m\u001b[1mwandb\u001b[0m: \timage_size: 200\n",
            "\u001b[34m\u001b[1mwandb\u001b[0m: \tlr: 0.001\n",
            "\u001b[34m\u001b[1mwandb\u001b[0m: \tpre_train_mod: Xception\n"
          ]
        },
        {
          "data": {
            "text/html": [
              "Tracking run with wandb version 0.12.11"
            ],
            "text/plain": [
              "<IPython.core.display.HTML object>"
            ]
          },
          "metadata": {},
          "output_type": "display_data"
        },
        {
          "data": {
            "text/html": [
              "Run data is saved locally in <code>/content/wandb/run-20220328_103056-mufhb5n4</code>"
            ],
            "text/plain": [
              "<IPython.core.display.HTML object>"
            ]
          },
          "metadata": {},
          "output_type": "display_data"
        },
        {
          "data": {
            "text/html": [
              "Syncing run <strong><a href=\"https://wandb.ai/swe-rana/CS6910_Assignment2/runs/mufhb5n4\" target=\"_blank\">whole-sweep-32</a></strong> to <a href=\"https://wandb.ai/swe-rana/CS6910_Assignment2\" target=\"_blank\">Weights & Biases</a> (<a href=\"https://wandb.me/run\" target=\"_blank\">docs</a>)<br/>Sweep page:  <a href=\"https://wandb.ai/swe-rana/CS6910_Assignment2/sweeps/g89b0365\" target=\"_blank\">https://wandb.ai/swe-rana/CS6910_Assignment2/sweeps/g89b0365</a>"
            ],
            "text/plain": [
              "<IPython.core.display.HTML object>"
            ]
          },
          "metadata": {},
          "output_type": "display_data"
        },
        {
          "metadata": {
            "tags": null
          },
          "name": "stdout",
          "output_type": "stream",
          "text": [
            "Found 9000 images belonging to 10 classes.\n",
            "Found 999 images belonging to 10 classes.\n",
            "Found 2000 images belonging to 10 classes.\n",
            "Epoch 1/10\n",
            "45/45 [==============================] - 250s 5s/step - loss: 5.6053 - categorical_accuracy: 0.1014 - val_loss: 2.3026 - val_categorical_accuracy: 0.1001 - _timestamp: 1648463720.0000 - _runtime: 264.0000\n",
            "Epoch 2/10\n",
            "45/45 [==============================] - 211s 5s/step - loss: 2.3026 - categorical_accuracy: 0.1000 - val_loss: 2.3026 - val_categorical_accuracy: 0.1001 - _timestamp: 1648463931.0000 - _runtime: 475.0000\n",
            "Epoch 3/10\n",
            "45/45 [==============================] - 206s 5s/step - loss: 2.3026 - categorical_accuracy: 0.1000 - val_loss: 2.3026 - val_categorical_accuracy: 0.1001 - _timestamp: 1648464138.0000 - _runtime: 682.0000\n",
            "Epoch 4/10\n",
            "45/45 [==============================] - 206s 5s/step - loss: 2.3028 - categorical_accuracy: 0.0962 - val_loss: 2.3026 - val_categorical_accuracy: 0.0991 - _timestamp: 1648464344.0000 - _runtime: 888.0000\n",
            "Epoch 5/10\n",
            "45/45 [==============================] - 207s 5s/step - loss: 2.3024 - categorical_accuracy: 0.0973 - val_loss: 2.3026 - val_categorical_accuracy: 0.1001 - _timestamp: 1648464550.0000 - _runtime: 1094.0000\n",
            "Epoch 6/10\n",
            "45/45 [==============================] - 206s 5s/step - loss: 2.3549 - categorical_accuracy: 0.1000 - val_loss: 2.3026 - val_categorical_accuracy: 0.1001 - _timestamp: 1648464757.0000 - _runtime: 1301.0000\n",
            "Epoch 7/10\n",
            "45/45 [==============================] - 207s 5s/step - loss: 2.3027 - categorical_accuracy: 0.0944 - val_loss: 2.3026 - val_categorical_accuracy: 0.1001 - _timestamp: 1648464963.0000 - _runtime: 1507.0000\n",
            "Epoch 8/10\n",
            "45/45 [==============================] - 206s 5s/step - loss: 2.3027 - categorical_accuracy: 0.0929 - val_loss: 2.3026 - val_categorical_accuracy: 0.1001 - _timestamp: 1648465169.0000 - _runtime: 1713.0000\n",
            "Epoch 9/10\n",
            "45/45 [==============================] - 206s 5s/step - loss: 2.3026 - categorical_accuracy: 0.0960 - val_loss: 2.3026 - val_categorical_accuracy: 0.1001 - _timestamp: 1648465375.0000 - _runtime: 1919.0000\n",
            "Epoch 10/10\n",
            "45/45 [==============================] - 206s 5s/step - loss: 2.3026 - categorical_accuracy: 0.0971 - val_loss: 2.3026 - val_categorical_accuracy: 0.1001 - _timestamp: 1648465582.0000 - _runtime: 2126.0000\n",
            "\n"
          ]
        },
        {
          "data": {
            "text/html": [
              "Waiting for W&B process to finish... <strong style=\"color:green\">(success).</strong>"
            ],
            "text/plain": [
              "<IPython.core.display.HTML object>"
            ]
          },
          "metadata": {},
          "output_type": "display_data"
        },
        {
          "data": {
            "application/vnd.jupyter.widget-view+json": {
              "model_id": "2a2090cde22543aa99f5d3908bdbcea0",
              "version_major": 2,
              "version_minor": 0
            },
            "text/plain": [
              "VBox(children=(Label(value='116.766 MB of 116.766 MB uploaded (0.000 MB deduped)\\r'), FloatProgress(value=1.0,…"
            ]
          },
          "metadata": {},
          "output_type": "display_data"
        },
        {
          "data": {
            "text/html": [
              "<style>\n",
              "    table.wandb td:nth-child(1) { padding: 0 10px; text-align: right }\n",
              "    .wandb-row { display: flex; flex-direction: row; flex-wrap: wrap; width: 100% }\n",
              "    .wandb-col { display: flex; flex-direction: column; flex-basis: 100%; flex: 1; padding: 10px; }\n",
              "    </style>\n",
              "<div class=\"wandb-row\"><div class=\"wandb-col\"><h3>Run history:</h3><br/><table class=\"wandb\"><tr><td>categorical_accuracy</td><td>█▇▇▄▅▇▂▁▄▄</td></tr><tr><td>epoch</td><td>▁▂▃▃▄▅▆▆▇█</td></tr><tr><td>loss</td><td>█▁▁▁▁▁▁▁▁▁</td></tr><tr><td>val_categorical_accuracy</td><td>███▁██████</td></tr><tr><td>val_loss</td><td>█▅▆▇▄▅▁▃▃▁</td></tr></table><br/></div><div class=\"wandb-col\"><h3>Run summary:</h3><br/><table class=\"wandb\"><tr><td>best_epoch</td><td>6</td></tr><tr><td>best_val_loss</td><td>2.30258</td></tr><tr><td>categorical_accuracy</td><td>0.09711</td></tr><tr><td>epoch</td><td>9</td></tr><tr><td>loss</td><td>2.30265</td></tr><tr><td>val_categorical_accuracy</td><td>0.1001</td></tr><tr><td>val_loss</td><td>2.30259</td></tr></table><br/></div></div>"
            ],
            "text/plain": [
              "<IPython.core.display.HTML object>"
            ]
          },
          "metadata": {},
          "output_type": "display_data"
        },
        {
          "data": {
            "text/html": [
              "Synced <strong style=\"color:#cdcd00\">whole-sweep-32</strong>: <a href=\"https://wandb.ai/swe-rana/CS6910_Assignment2/runs/mufhb5n4\" target=\"_blank\">https://wandb.ai/swe-rana/CS6910_Assignment2/runs/mufhb5n4</a><br/>Synced 5 W&B file(s), 1 media file(s), 0 artifact file(s) and 1 other file(s)"
            ],
            "text/plain": [
              "<IPython.core.display.HTML object>"
            ]
          },
          "metadata": {},
          "output_type": "display_data"
        },
        {
          "data": {
            "text/html": [
              "Find logs at: <code>./wandb/run-20220328_103056-mufhb5n4/logs</code>"
            ],
            "text/plain": [
              "<IPython.core.display.HTML object>"
            ]
          },
          "metadata": {},
          "output_type": "display_data"
        },
        {
          "metadata": {
            "tags": null
          },
          "name": "stderr",
          "output_type": "stream",
          "text": [
            "\u001b[34m\u001b[1mwandb\u001b[0m: Agent Starting Run: av51mo5x with config:\n",
            "\u001b[34m\u001b[1mwandb\u001b[0m: \taugment_data: False\n",
            "\u001b[34m\u001b[1mwandb\u001b[0m: \tbatch_size: 200\n",
            "\u001b[34m\u001b[1mwandb\u001b[0m: \tdense_size: 64\n",
            "\u001b[34m\u001b[1mwandb\u001b[0m: \tdropout: 0.3\n",
            "\u001b[34m\u001b[1mwandb\u001b[0m: \tepochs: 10\n",
            "\u001b[34m\u001b[1mwandb\u001b[0m: \timage_size: 512\n",
            "\u001b[34m\u001b[1mwandb\u001b[0m: \tlr: 0.001\n",
            "\u001b[34m\u001b[1mwandb\u001b[0m: \tpre_train_mod: InceptionResNetV2\n"
          ]
        },
        {
          "data": {
            "text/html": [
              "Tracking run with wandb version 0.12.11"
            ],
            "text/plain": [
              "<IPython.core.display.HTML object>"
            ]
          },
          "metadata": {},
          "output_type": "display_data"
        },
        {
          "data": {
            "text/html": [
              "Run data is saved locally in <code>/content/wandb/run-20220328_110733-av51mo5x</code>"
            ],
            "text/plain": [
              "<IPython.core.display.HTML object>"
            ]
          },
          "metadata": {},
          "output_type": "display_data"
        },
        {
          "data": {
            "text/html": [
              "Syncing run <strong><a href=\"https://wandb.ai/swe-rana/CS6910_Assignment2/runs/av51mo5x\" target=\"_blank\">elated-sweep-33</a></strong> to <a href=\"https://wandb.ai/swe-rana/CS6910_Assignment2\" target=\"_blank\">Weights & Biases</a> (<a href=\"https://wandb.me/run\" target=\"_blank\">docs</a>)<br/>Sweep page:  <a href=\"https://wandb.ai/swe-rana/CS6910_Assignment2/sweeps/g89b0365\" target=\"_blank\">https://wandb.ai/swe-rana/CS6910_Assignment2/sweeps/g89b0365</a>"
            ],
            "text/plain": [
              "<IPython.core.display.HTML object>"
            ]
          },
          "metadata": {},
          "output_type": "display_data"
        },
        {
          "output_type": "stream",
          "name": "stdout",
          "text": [
            "Found 9000 images belonging to 10 classes.\n",
            "Found 999 images belonging to 10 classes.\n",
            "Found 2000 images belonging to 10 classes.\n",
            "Epoch 1/10\n",
            "45/45 [==============================] - 392s 8s/step - loss: 2.3509 - categorical_accuracy: 0.4808 - val_loss: 0.9688 - val_categorical_accuracy: 0.7227 - _timestamp: 1648466057.0000 - _runtime: 404.0000\n",
            "Epoch 2/10\n",
            "45/45 [==============================] - 344s 8s/step - loss: 0.9678 - categorical_accuracy: 0.6917 - val_loss: 0.7696 - val_categorical_accuracy: 0.7928 - _timestamp: 1648466401.0000 - _runtime: 748.0000\n",
            "Epoch 3/10\n",
            "45/45 [==============================] - 344s 8s/step - loss: 0.7933 - categorical_accuracy: 0.7619 - val_loss: 0.6682 - val_categorical_accuracy: 0.8388 - _timestamp: 1648466746.0000 - _runtime: 1093.0000\n",
            "Epoch 4/10\n",
            "45/45 [==============================] - 342s 8s/step - loss: 0.6395 - categorical_accuracy: 0.7950 - val_loss: 0.6979 - val_categorical_accuracy: 0.8288 - _timestamp: 1648467091.0000 - _runtime: 1438.0000\n",
            "Epoch 5/10\n",
            "45/45 [==============================] - 342s 8s/step - loss: 0.6002 - categorical_accuracy: 0.8109 - val_loss: 0.7007 - val_categorical_accuracy: 0.8448 - _timestamp: 1648467433.0000 - _runtime: 1780.0000\n",
            "Epoch 6/10\n",
            "45/45 [==============================] - 342s 8s/step - loss: 0.5461 - categorical_accuracy: 0.8251 - val_loss: 0.7368 - val_categorical_accuracy: 0.8519 - _timestamp: 1648467774.0000 - _runtime: 2121.0000\n",
            "Epoch 7/10\n",
            "45/45 [==============================] - 346s 8s/step - loss: 0.5055 - categorical_accuracy: 0.8410 - val_loss: 0.7024 - val_categorical_accuracy: 0.8368 - _timestamp: 1648468121.0000 - _runtime: 2468.0000\n",
            "Epoch 8/10\n",
            "45/45 [==============================] - 342s 8s/step - loss: 0.4681 - categorical_accuracy: 0.8449 - val_loss: 0.6921 - val_categorical_accuracy: 0.8569 - _timestamp: 1648468462.0000 - _runtime: 2809.0000\n",
            "Epoch 9/10\n",
            "45/45 [==============================] - 345s 8s/step - loss: 0.4499 - categorical_accuracy: 0.8520 - val_loss: 0.6666 - val_categorical_accuracy: 0.8428 - _timestamp: 1648468805.0000 - _runtime: 3152.0000\n",
            "Epoch 10/10\n",
            "45/45 [==============================] - 345s 8s/step - loss: 0.4280 - categorical_accuracy: 0.8597 - val_loss: 0.6648 - val_categorical_accuracy: 0.8519 - _timestamp: 1648469150.0000 - _runtime: 3497.0000\n",
            "\n"
          ]
        },
        {
          "output_type": "display_data",
          "data": {
            "text/plain": [
              "<IPython.core.display.HTML object>"
            ],
            "text/html": [
              "Waiting for W&B process to finish... <strong style=\"color:green\">(success).</strong>"
            ]
          },
          "metadata": {}
        },
        {
          "output_type": "display_data",
          "data": {
            "text/plain": [
              "VBox(children=(Label(value='429.934 MB of 429.934 MB uploaded (0.000 MB deduped)\\r'), FloatProgress(value=1.0,…"
            ],
            "application/vnd.jupyter.widget-view+json": {
              "version_major": 2,
              "version_minor": 0,
              "model_id": "f1dbf791a8014373af5c74aa8b3d965b"
            }
          },
          "metadata": {}
        },
        {
          "output_type": "display_data",
          "data": {
            "text/plain": [
              "<IPython.core.display.HTML object>"
            ],
            "text/html": [
              "<style>\n",
              "    table.wandb td:nth-child(1) { padding: 0 10px; text-align: right }\n",
              "    .wandb-row { display: flex; flex-direction: row; flex-wrap: wrap; width: 100% }\n",
              "    .wandb-col { display: flex; flex-direction: column; flex-basis: 100%; flex: 1; padding: 10px; }\n",
              "    </style>\n",
              "<div class=\"wandb-row\"><div class=\"wandb-col\"><h3>Run history:</h3><br/><table class=\"wandb\"><tr><td>categorical_accuracy</td><td>▁▅▆▇▇▇████</td></tr><tr><td>epoch</td><td>▁▂▃▃▄▅▆▆▇█</td></tr><tr><td>loss</td><td>█▃▂▂▂▁▁▁▁▁</td></tr><tr><td>val_categorical_accuracy</td><td>▁▅▇▇▇█▇█▇█</td></tr><tr><td>val_loss</td><td>█▃▁▂▂▃▂▂▁▁</td></tr></table><br/></div><div class=\"wandb-col\"><h3>Run summary:</h3><br/><table class=\"wandb\"><tr><td>best_epoch</td><td>9</td></tr><tr><td>best_val_loss</td><td>0.66478</td></tr><tr><td>categorical_accuracy</td><td>0.85967</td></tr><tr><td>epoch</td><td>9</td></tr><tr><td>loss</td><td>0.42796</td></tr><tr><td>val_categorical_accuracy</td><td>0.85185</td></tr><tr><td>val_loss</td><td>0.66478</td></tr></table><br/></div></div>"
            ]
          },
          "metadata": {}
        },
        {
          "output_type": "display_data",
          "data": {
            "text/plain": [
              "<IPython.core.display.HTML object>"
            ],
            "text/html": [
              "Synced <strong style=\"color:#cdcd00\">elated-sweep-33</strong>: <a href=\"https://wandb.ai/swe-rana/CS6910_Assignment2/runs/av51mo5x\" target=\"_blank\">https://wandb.ai/swe-rana/CS6910_Assignment2/runs/av51mo5x</a><br/>Synced 5 W&B file(s), 1 media file(s), 0 artifact file(s) and 1 other file(s)"
            ]
          },
          "metadata": {}
        },
        {
          "output_type": "display_data",
          "data": {
            "text/plain": [
              "<IPython.core.display.HTML object>"
            ],
            "text/html": [
              "Find logs at: <code>./wandb/run-20220328_110733-av51mo5x/logs</code>"
            ]
          },
          "metadata": {}
        },
        {
          "output_type": "stream",
          "name": "stderr",
          "text": [
            "\u001b[34m\u001b[1mwandb\u001b[0m: Agent Starting Run: t51kwscb with config:\n",
            "\u001b[34m\u001b[1mwandb\u001b[0m: \taugment_data: True\n",
            "\u001b[34m\u001b[1mwandb\u001b[0m: \tbatch_size: 200\n",
            "\u001b[34m\u001b[1mwandb\u001b[0m: \tdense_size: 32\n",
            "\u001b[34m\u001b[1mwandb\u001b[0m: \tdropout: 0.2\n",
            "\u001b[34m\u001b[1mwandb\u001b[0m: \tepochs: 10\n",
            "\u001b[34m\u001b[1mwandb\u001b[0m: \timage_size: 256\n",
            "\u001b[34m\u001b[1mwandb\u001b[0m: \tlr: 0.001\n",
            "\u001b[34m\u001b[1mwandb\u001b[0m: \tpre_train_mod: InceptionV3\n"
          ]
        },
        {
          "output_type": "display_data",
          "data": {
            "text/plain": [
              "<IPython.core.display.HTML object>"
            ],
            "text/html": [
              "Tracking run with wandb version 0.12.11"
            ]
          },
          "metadata": {}
        },
        {
          "output_type": "display_data",
          "data": {
            "text/plain": [
              "<IPython.core.display.HTML object>"
            ],
            "text/html": [
              "Run data is saved locally in <code>/content/wandb/run-20220328_120704-t51kwscb</code>"
            ]
          },
          "metadata": {}
        },
        {
          "output_type": "display_data",
          "data": {
            "text/plain": [
              "<IPython.core.display.HTML object>"
            ],
            "text/html": [
              "Syncing run <strong><a href=\"https://wandb.ai/swe-rana/CS6910_Assignment2/runs/t51kwscb\" target=\"_blank\">different-sweep-36</a></strong> to <a href=\"https://wandb.ai/swe-rana/CS6910_Assignment2\" target=\"_blank\">Weights & Biases</a> (<a href=\"https://wandb.me/run\" target=\"_blank\">docs</a>)<br/>Sweep page:  <a href=\"https://wandb.ai/swe-rana/CS6910_Assignment2/sweeps/g89b0365\" target=\"_blank\">https://wandb.ai/swe-rana/CS6910_Assignment2/sweeps/g89b0365</a>"
            ]
          },
          "metadata": {}
        },
        {
          "output_type": "stream",
          "name": "stdout",
          "text": [
            "Found 9000 images belonging to 10 classes.\n",
            "Found 999 images belonging to 10 classes.\n",
            "Found 2000 images belonging to 10 classes.\n",
            "Epoch 1/10\n",
            "45/45 [==============================] - 277s 6s/step - loss: 11.8925 - categorical_accuracy: 0.0997 - val_loss: 2.3026 - val_categorical_accuracy: 0.1001 - _timestamp: 1648469517.0000 - _runtime: 293.0000\n",
            "Epoch 2/10\n",
            "45/45 [==============================] - 260s 6s/step - loss: 2.3026 - categorical_accuracy: 0.0962 - val_loss: 2.3026 - val_categorical_accuracy: 0.1001 - _timestamp: 1648469777.0000 - _runtime: 553.0000\n",
            "Epoch 3/10\n",
            "45/45 [==============================] - 257s 6s/step - loss: 2.3028 - categorical_accuracy: 0.0973 - val_loss: 2.3026 - val_categorical_accuracy: 0.1001 - _timestamp: 1648470034.0000 - _runtime: 810.0000\n",
            "Epoch 4/10\n",
            "24/45 [===============>..............] - ETA: 1:47 - loss: 2.3026 - categorical_accuracy: 0.1004"
          ]
        }
      ]
    }
  ]
}